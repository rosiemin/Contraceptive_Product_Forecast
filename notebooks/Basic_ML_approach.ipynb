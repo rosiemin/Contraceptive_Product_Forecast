{
 "cells": [
  {
   "cell_type": "code",
   "execution_count": 1,
   "metadata": {},
   "outputs": [],
   "source": [
    "# Importing libraries\n",
    "import pandas as pd\n",
    "import numpy as np\n",
    "import matplotlib.pyplot as plt\n",
    "from datetime import datetime\n",
    "from pandas import Series\n",
    "\n",
    "import warnings\n",
    "warnings.filterwarnings(\"ignore\")"
   ]
  },
  {
   "cell_type": "code",
   "execution_count": 2,
   "metadata": {},
   "outputs": [],
   "source": [
    "BASE_PATH = 'data/'\n",
    "annual_cases = pd.read_csv(BASE_PATH + 'contraceptive_case_data_annual.csv')\n",
    "train = pd.read_csv(BASE_PATH + 'Train.csv')\n",
    "product = pd.read_csv(BASE_PATH + 'product.csv')\n",
    "monthly_cases = pd.read_csv(BASE_PATH + 'monthly_cases.csv')\n",
    "site_df = pd.read_csv(BASE_PATH + 'service_delivery_site_data.csv')\n",
    "ss = pd.read_csv(BASE_PATH + 'SampleSubmission.csv')"
   ]
  },
  {
   "cell_type": "code",
   "execution_count": 3,
   "metadata": {},
   "outputs": [
    {
     "data": {
      "text/html": [
       "<div>\n",
       "<style scoped>\n",
       "    .dataframe tbody tr th:only-of-type {\n",
       "        vertical-align: middle;\n",
       "    }\n",
       "\n",
       "    .dataframe tbody tr th {\n",
       "        vertical-align: top;\n",
       "    }\n",
       "\n",
       "    .dataframe thead th {\n",
       "        text-align: right;\n",
       "    }\n",
       "</style>\n",
       "<table border=\"1\" class=\"dataframe\">\n",
       "  <thead>\n",
       "    <tr style=\"text-align: right;\">\n",
       "      <th></th>\n",
       "      <th>year</th>\n",
       "      <th>month</th>\n",
       "      <th>region</th>\n",
       "      <th>district</th>\n",
       "      <th>site_code</th>\n",
       "      <th>product_code</th>\n",
       "      <th>stock_initial</th>\n",
       "      <th>stock_received</th>\n",
       "      <th>stock_distributed</th>\n",
       "      <th>stock_adjustment</th>\n",
       "      <th>stock_end</th>\n",
       "      <th>average_monthly_consumption</th>\n",
       "      <th>stock_stockout_days</th>\n",
       "      <th>stock_ordered</th>\n",
       "    </tr>\n",
       "  </thead>\n",
       "  <tbody>\n",
       "    <tr>\n",
       "      <th>0</th>\n",
       "      <td>2019</td>\n",
       "      <td>1</td>\n",
       "      <td>INDENIE-DJUABLIN</td>\n",
       "      <td>ABENGOUROU</td>\n",
       "      <td>C4001</td>\n",
       "      <td>AS27134</td>\n",
       "      <td>75</td>\n",
       "      <td>0</td>\n",
       "      <td>21</td>\n",
       "      <td>-54</td>\n",
       "      <td>0</td>\n",
       "      <td>18</td>\n",
       "      <td>0</td>\n",
       "      <td>100.0</td>\n",
       "    </tr>\n",
       "    <tr>\n",
       "      <th>1</th>\n",
       "      <td>2019</td>\n",
       "      <td>1</td>\n",
       "      <td>INDENIE-DJUABLIN</td>\n",
       "      <td>ABENGOUROU</td>\n",
       "      <td>C4001</td>\n",
       "      <td>AS27132</td>\n",
       "      <td>3</td>\n",
       "      <td>0</td>\n",
       "      <td>3</td>\n",
       "      <td>0</td>\n",
       "      <td>0</td>\n",
       "      <td>2</td>\n",
       "      <td>0</td>\n",
       "      <td>10.0</td>\n",
       "    </tr>\n",
       "    <tr>\n",
       "      <th>2</th>\n",
       "      <td>2019</td>\n",
       "      <td>1</td>\n",
       "      <td>INDENIE-DJUABLIN</td>\n",
       "      <td>ABENGOUROU</td>\n",
       "      <td>C4001</td>\n",
       "      <td>AS27000</td>\n",
       "      <td>0</td>\n",
       "      <td>75</td>\n",
       "      <td>22</td>\n",
       "      <td>0</td>\n",
       "      <td>53</td>\n",
       "      <td>9</td>\n",
       "      <td>0</td>\n",
       "      <td>0.0</td>\n",
       "    </tr>\n",
       "    <tr>\n",
       "      <th>3</th>\n",
       "      <td>2019</td>\n",
       "      <td>1</td>\n",
       "      <td>INDENIE-DJUABLIN</td>\n",
       "      <td>ABENGOUROU</td>\n",
       "      <td>C4001</td>\n",
       "      <td>AS27137</td>\n",
       "      <td>2</td>\n",
       "      <td>0</td>\n",
       "      <td>0</td>\n",
       "      <td>0</td>\n",
       "      <td>2</td>\n",
       "      <td>0</td>\n",
       "      <td>0</td>\n",
       "      <td>0.0</td>\n",
       "    </tr>\n",
       "    <tr>\n",
       "      <th>4</th>\n",
       "      <td>2019</td>\n",
       "      <td>1</td>\n",
       "      <td>INDENIE-DJUABLIN</td>\n",
       "      <td>ABENGOUROU</td>\n",
       "      <td>C4001</td>\n",
       "      <td>AS27138</td>\n",
       "      <td>45</td>\n",
       "      <td>0</td>\n",
       "      <td>2</td>\n",
       "      <td>0</td>\n",
       "      <td>43</td>\n",
       "      <td>1</td>\n",
       "      <td>0</td>\n",
       "      <td>0.0</td>\n",
       "    </tr>\n",
       "  </tbody>\n",
       "</table>\n",
       "</div>"
      ],
      "text/plain": [
       "   year  month            region    district site_code product_code  \\\n",
       "0  2019      1  INDENIE-DJUABLIN  ABENGOUROU     C4001      AS27134   \n",
       "1  2019      1  INDENIE-DJUABLIN  ABENGOUROU     C4001      AS27132   \n",
       "2  2019      1  INDENIE-DJUABLIN  ABENGOUROU     C4001      AS27000   \n",
       "3  2019      1  INDENIE-DJUABLIN  ABENGOUROU     C4001      AS27137   \n",
       "4  2019      1  INDENIE-DJUABLIN  ABENGOUROU     C4001      AS27138   \n",
       "\n",
       "   stock_initial  stock_received  stock_distributed  stock_adjustment  \\\n",
       "0             75               0                 21               -54   \n",
       "1              3               0                  3                 0   \n",
       "2              0              75                 22                 0   \n",
       "3              2               0                  0                 0   \n",
       "4             45               0                  2                 0   \n",
       "\n",
       "   stock_end  average_monthly_consumption  stock_stockout_days  stock_ordered  \n",
       "0          0                           18                    0          100.0  \n",
       "1          0                            2                    0           10.0  \n",
       "2         53                            9                    0            0.0  \n",
       "3          2                            0                    0            0.0  \n",
       "4         43                            1                    0            0.0  "
      ]
     },
     "execution_count": 3,
     "metadata": {},
     "output_type": "execute_result"
    }
   ],
   "source": [
    "train.head()"
   ]
  },
  {
   "cell_type": "code",
   "execution_count": 4,
   "metadata": {},
   "outputs": [],
   "source": [
    "train['date'] = pd.to_datetime(train['year'].astype(str)  + train['month'].astype(str), format='%Y%m')"
   ]
  },
  {
   "cell_type": "code",
   "execution_count": 5,
   "metadata": {},
   "outputs": [],
   "source": [
    "\n",
    "def start_and_end_dates(df):\n",
    "    start = df['Datetime'].min()\n",
    "    end = df['Datetime'].max()\n",
    "    return start, end"
   ]
  },
  {
   "cell_type": "markdown",
   "metadata": {},
   "source": [
    "Practicing w/ aggregated overall "
   ]
  },
  {
   "cell_type": "code",
   "execution_count": 6,
   "metadata": {},
   "outputs": [],
   "source": [
    "train_by_month_year = train.groupby(['date']).sum().reset_index().drop(['month', 'year'], axis = 1)"
   ]
  },
  {
   "cell_type": "code",
   "execution_count": 9,
   "metadata": {},
   "outputs": [],
   "source": [
    "train_trunc = train_by_month_year[['date', 'stock_distributed']].copy()"
   ]
  },
  {
   "cell_type": "code",
   "execution_count": null,
   "metadata": {},
   "outputs": [],
   "source": []
  }
 ],
 "metadata": {
  "kernelspec": {
   "display_name": "Python 3",
   "language": "python",
   "name": "python3"
  },
  "language_info": {
   "codemirror_mode": {
    "name": "ipython",
    "version": 3
   },
   "file_extension": ".py",
   "mimetype": "text/x-python",
   "name": "python",
   "nbconvert_exporter": "python",
   "pygments_lexer": "ipython3",
   "version": "3.7.6"
  }
 },
 "nbformat": 4,
 "nbformat_minor": 4
}
